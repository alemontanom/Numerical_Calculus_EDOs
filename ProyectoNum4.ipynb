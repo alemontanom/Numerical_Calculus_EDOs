{
 "cells": [
  {
   "cell_type": "code",
   "execution_count": 28,
   "metadata": {},
   "outputs": [
    {
     "name": "stdout",
     "output_type": "stream",
     "text": [
      "(0.9900000000000007, 0.3147901512507335, 0.20494998898572706, 0.0041423845138846005, 0.0010696261934734774)\n",
      "Aproximacion de u1(t) para t = 1 con h = 1/10:  0.36423688767221885\n",
      "Error global de u1(1) para h = 1/10:  0.04575993255931787 \t\n",
      "Aproximacion de u2(t) para t = 1 con h = 1/10:  0.27090730975686844\n",
      "Error global de u2(1) para h = 1/10:  0.018179556465699687 \t\n",
      "Aproximacion de u1(t) para t = 1 con h = 1/100:  0.3147901512507335\n",
      "Error global de u1(1) para h = 1/100:  0.0041423845138846005 \t\n",
      "Aproximacion de u2(t) para t = 1 con h = 1/100:  0.20494998898572706\n",
      "Error global de u2(1) para h = 1/100:  0.0010696261934734774\n",
      "U(1) =  (0.3095598756531122, 0.19876611034641298)\n"
     ]
    }
   ],
   "source": [
    "# PROBLEMA 4:\n",
    "\n",
    "import numpy as np\n",
    "\n",
    "def U(t):\n",
    "    u = (np.exp(-t)*np.sin(t),np.exp(-t)*np.cos(t))\n",
    "    return u\n",
    "   \n",
    "def campo(t,u1,u2):\n",
    "    f = (-u1 + u2, -u1 - u2)\n",
    "    return f\n",
    "\n",
    "def PuntoMedioR2(f,U,t0,u1_0,u2_0,imax,h):\n",
    "    w1 = np.zeros(imax+1)\n",
    "    w2 = np.zeros(imax+1)\n",
    "    gu1 = np.zeros(imax+1)\n",
    "    gu2 = np.zeros(imax+1)\n",
    "    t = np.zeros(imax+1)\n",
    "    t[0] = t0\n",
    "    w1[0] = u1_0\n",
    "    w2[0] = u2_0\n",
    "    for i in range(0,imax):\n",
    "        w1[i+1] = w1[i] + h*f(t[i] + h/2,w1[i] + (h/2)*f(t[i],w1[i],w2[i])[0],w2[i] + (h/2)*f(t[i],w1[i],w2[i])[0])[0]\n",
    "        w2[i+1] = w2[i] + h*f(t[i] + h/2,w1[i] + (h/2)*f(t[i],w1[i],w2[i])[1],w2[i] + (h/2)*f(t[i],w1[i],w2[i])[1])[1]\n",
    "        gu1[i] = abs(U(t[i])[0] - w1[i])\n",
    "        gu2[i] = abs(U(t[i])[1] - w2[i])\n",
    "        t[i+1] = t[i] + h\n",
    "    return (t[imax-1],w1[imax-1],w2[imax-1],gu1[imax-1],gu2[imax-1])\n",
    "   \n",
    "# Para h = 1/10\n",
    "#print(PuntoMedioR2(campo,U,0,0,1,100,0.01))\n",
    "print(\"Aproximacion de u1(t) para t = 1 con h = 1/10: \",PuntoMedioR2(campo,U,0,0,1,10,0.1)[1])\n",
    "print(\"Error global de u1(1) para h = 1/10: \",PuntoMedioR2(campo,U,0,0,1,10,0.1)[3],\"\\t\")\n",
    "print(\"Aproximacion de u2(t) para t = 1 con h = 1/10: \",PuntoMedioR2(campo,U,0,0,1,10,0.1)[2])\n",
    "print(\"Error global de u2(1) para h = 1/10: \",PuntoMedioR2(campo,U,0,0,1,10,0.1)[4],\"\\t\")\n",
    "\n",
    "# Para h = 1/100\n",
    "\n",
    "print(\"Aproximacion de u1(t) para t = 1 con h = 1/100: \",PuntoMedioR2(campo,U,0,0,1,100,0.01)[1])\n",
    "print(\"Error global de u1(1) para h = 1/100: \",PuntoMedioR2(campo,U,0,0,1,100,0.01)[3],\"\\t\")\n",
    "print(\"Aproximacion de u2(t) para t = 1 con h = 1/100: \",PuntoMedioR2(campo,U,0,0,1,100,0.01)[2])\n",
    "print(\"Error global de u2(1) para h = 1/100: \",PuntoMedioR2(campo,U,0,0,1,100,0.01)[4])\n",
    "\n",
    "print(\"U(1) = \", U(1))"
   ]
  }
 ],
 "metadata": {
  "kernelspec": {
   "display_name": "Python 3",
   "language": "python",
   "name": "python3"
  },
  "language_info": {
   "codemirror_mode": {
    "name": "ipython",
    "version": 3
   },
   "file_extension": ".py",
   "mimetype": "text/x-python",
   "name": "python",
   "nbconvert_exporter": "python",
   "pygments_lexer": "ipython3",
   "version": "3.8.5"
  }
 },
 "nbformat": 4,
 "nbformat_minor": 4
}
