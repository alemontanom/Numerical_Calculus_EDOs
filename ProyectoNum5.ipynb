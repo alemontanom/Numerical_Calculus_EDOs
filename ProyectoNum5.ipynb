{
 "cells": [
  {
   "cell_type": "code",
   "execution_count": 1,
   "metadata": {},
   "outputs": [],
   "source": [
    "import math as m"
   ]
  },
  {
   "cell_type": "code",
   "execution_count": 2,
   "metadata": {},
   "outputs": [],
   "source": [
    "import numpy as np"
   ]
  },
  {
   "cell_type": "code",
   "execution_count": 3,
   "metadata": {},
   "outputs": [],
   "source": [
    "from scipy.optimize import fsolve"
   ]
  },
  {
   "cell_type": "code",
   "execution_count": 4,
   "metadata": {
    "scrolled": true
   },
   "outputs": [
    {
     "name": "stdout",
     "output_type": "stream",
     "text": [
      "Using matplotlib backend: MacOSX\n",
      "Populating the interactive namespace from numpy and matplotlib\n"
     ]
    }
   ],
   "source": [
    "%pylab"
   ]
  },
  {
   "cell_type": "code",
   "execution_count": 5,
   "metadata": {},
   "outputs": [],
   "source": [
    "%matplotlib inline"
   ]
  },
  {
   "cell_type": "code",
   "execution_count": 6,
   "metadata": {},
   "outputs": [],
   "source": [
    "f = lambda t, u : 5*u -3*(u**2)"
   ]
  },
  {
   "cell_type": "code",
   "execution_count": 7,
   "metadata": {},
   "outputs": [],
   "source": [
    "df = lambda t, u: 5-6*u"
   ]
  },
  {
   "cell_type": "code",
   "execution_count": 8,
   "metadata": {},
   "outputs": [],
   "source": [
    "#u(t)= f(t, u(t), u'(t), u''(t),...)\n",
    "#tj = t \n",
    "# w0 = u(a) --> condicion inicial \n",
    "#t0 = a\n",
    "#wj = wnew "
   ]
  },
  {
   "cell_type": "code",
   "execution_count": 9,
   "metadata": {},
   "outputs": [],
   "source": [
    "#h = 1/6, 1/5, 1/4, 1/2\n",
    "#t0 = 0 = a = inicio del intervalo = tj parametro de la funcion\n",
    "# b = fin del intervalo \n",
    "\n",
    "def EE (f, tj, wj, h, b): #h constante, euler explícito \n",
    "    numpasos = m.ceil((b-tj)/h)\n",
    "    wnew = 0\n",
    "    for i in range (0, numpasos):\n",
    "        wnew = wj+h*f(tj,wj)\n",
    "        tj = tj + h\n",
    "        wj = wnew \n",
    "    return wnew, tj"
   ]
  },
  {
   "cell_type": "code",
   "execution_count": 10,
   "metadata": {},
   "outputs": [
    {
     "data": {
      "text/plain": [
       "(1.6666666666666665, 20.000000000000004)"
      ]
     },
     "execution_count": 10,
     "metadata": {},
     "output_type": "execute_result"
    }
   ],
   "source": [
    "EE(f, 0, 1/2, 1/6, 20)"
   ]
  },
  {
   "cell_type": "code",
   "execution_count": 11,
   "metadata": {},
   "outputs": [
    {
     "data": {
      "text/plain": [
       "(1.6666666666666665, 19.99999999999996)"
      ]
     },
     "execution_count": 11,
     "metadata": {},
     "output_type": "execute_result"
    }
   ],
   "source": [
    "EE(f, 0, 1/2, 1/5, 20)"
   ]
  },
  {
   "cell_type": "code",
   "execution_count": 12,
   "metadata": {},
   "outputs": [
    {
     "data": {
      "text/plain": [
       "(1.6666666666666665, 20.0)"
      ]
     },
     "execution_count": 12,
     "metadata": {},
     "output_type": "execute_result"
    }
   ],
   "source": [
    "EE(f, 0, 1/2, 1/4, 20)"
   ]
  },
  {
   "cell_type": "code",
   "execution_count": 13,
   "metadata": {},
   "outputs": [
    {
     "data": {
      "text/plain": [
       "(2.0416602817389693, 20.0)"
      ]
     },
     "execution_count": 13,
     "metadata": {},
     "output_type": "execute_result"
    }
   ],
   "source": [
    "EE(f, 0, 1/2, 1/2, 20)"
   ]
  },
  {
   "cell_type": "code",
   "execution_count": 14,
   "metadata": {},
   "outputs": [],
   "source": [
    "#fsolve solo regresa una raíz, no es necesario hacer todo doble\n",
    "def EI3BuenoGraf(w0, f, I, h): #usando f solve para aproximar G\n",
    "    G = lambda z : (3*h*(z**2) + (1-5*h)*z - w[i])\n",
    "    numpasos = m.ceil((I[1]-I[0])/h)\n",
    "    T=np.linspace(I[0], I[1], numpasos+1)\n",
    "    T1=[]\n",
    "    for i in range(0, len(T)):\n",
    "        T1.append(T[i])\n",
    "    T1.append(20)\n",
    "    w=np.zeros(len(T)+1)\n",
    "    w1=np.zeros(len(T)+1)\n",
    "    zi = np.zeros(len(T)+1)\n",
    "    zmalo = np.zeros(len(T)+1)\n",
    "    w[0]=w0\n",
    "    w1[0]=w0\n",
    "    zi[0]=w0 +h*f(T[0], w0)\n",
    "    zmalo[0] = w0\n",
    "    for i in range(0,len(T)):\n",
    "        zi[i+1]=fsolve(G, zi[i], xtol=0.0003)\n",
    "        zmalo[i+1] = fsolve(G, zmalo[i], xtol=0.1)\n",
    "        w[i+1] = zi[i+1]\n",
    "        w1[i+1] = zmalo[i+1]\n",
    "    plot(T1, w, \"c\")\n",
    "    plot(T1, w1, \"b\")\n",
    "    title(\"Convergencia del método Euler implicito\")\n",
    "    legend([\"z0 aprox de EE\", \"z0 = w0\"])\n",
    "    xlabel(\"t\")\n",
    "    ylabel(\"Aproximacion de raiz de G\")\n",
    "    return zi, T"
   ]
  },
  {
   "cell_type": "code",
   "execution_count": 15,
   "metadata": {},
   "outputs": [
    {
     "data": {
      "text/plain": [
       "(array([1.375     , 1.26376262, 1.54523199, 1.63143898, 1.65655782,\n",
       "        1.66377477, 1.66584012, 1.66643049, 1.6665992 , 1.66664739,\n",
       "        1.66666116, 1.66666509, 1.66666622, 1.66666654, 1.66666663,\n",
       "        1.66666666, 1.66666666, 1.66666667, 1.66666667, 1.66666667,\n",
       "        1.66666667, 1.66666667, 1.66666667, 1.66666667, 1.66666667,\n",
       "        1.66666667, 1.66666667, 1.66666667, 1.66666667, 1.66666667,\n",
       "        1.66666667, 1.66666667, 1.66666667, 1.66666667, 1.66666667,\n",
       "        1.66666667, 1.66666667, 1.66666667, 1.66666667, 1.66666667,\n",
       "        1.66666667, 1.66666667]),\n",
       " array([ 0. ,  0.5,  1. ,  1.5,  2. ,  2.5,  3. ,  3.5,  4. ,  4.5,  5. ,\n",
       "         5.5,  6. ,  6.5,  7. ,  7.5,  8. ,  8.5,  9. ,  9.5, 10. , 10.5,\n",
       "        11. , 11.5, 12. , 12.5, 13. , 13.5, 14. , 14.5, 15. , 15.5, 16. ,\n",
       "        16.5, 17. , 17.5, 18. , 18.5, 19. , 19.5, 20. ]))"
      ]
     },
     "execution_count": 15,
     "metadata": {},
     "output_type": "execute_result"
    },
    {
     "data": {
      "image/png": "[encoded data removed]",
      "text/plain": [
       "<Figure size 432x288 with 1 Axes>"
      ]
     },
     "metadata": {
      "needs_background": "light"
     },
     "output_type": "display_data"
    }
   ],
   "source": [
    "EI3BuenoGraf(1/2, f, [0,20], 1/2)"
   ]
  },
  {
   "cell_type": "code",
   "execution_count": 16,
   "metadata": {},
   "outputs": [],
   "source": [
    "dg = lambda z, h: 6*h*z + 1-5*h"
   ]
  },
  {
   "cell_type": "code",
   "execution_count": 17,
   "metadata": {},
   "outputs": [],
   "source": [
    "def newton (a, tol, f1, der, t, h):\n",
    "    aproxn=[]\n",
    "    errorn=[]\n",
    "    b=a-f1(a)/der(a, h)\n",
    "    while (abs(a-b)>tol):\n",
    "        a=b\n",
    "        b=a-f1(a)/der(a, h) \n",
    "        aproxn.append(a)\n",
    "        errorn.append(a-b)\n",
    "    return b"
   ]
  },
  {
   "cell_type": "code",
   "execution_count": 18,
   "metadata": {},
   "outputs": [],
   "source": [
    "def EINewtonGraf(w0, f, I, h, der): #usando newton para aproximar G\n",
    "    G = lambda z : (3*h*(z**2) + (1-5*h)*z - w[i])\n",
    "    numpasos = m.ceil((I[1]-I[0])/h)\n",
    "    T=np.linspace(I[0], I[1], numpasos+1)\n",
    "    T1=[]\n",
    "    for i in range(0, len(T)):\n",
    "        T1.append(T[i])\n",
    "    T1.append(20)\n",
    "    w=np.zeros(len(T)+1)\n",
    "    w1=np.zeros(len(T)+1)\n",
    "    zi = np.zeros(len(T)+1)\n",
    "    zmalo = np.zeros(len(T)+1)\n",
    "    w[0]=w0\n",
    "    w1[0]=w0\n",
    "    zi[0]=w0 +h*f(T[0], w0)\n",
    "    zmalo[0] = w0\n",
    "    for i in range(0,len(T)):\n",
    "        zi[i+1]=newton(zi[i], 10**-3, G, der, T[i], h)\n",
    "        zmalo[i+1] = newton(zmalo[i], 10**-3, G, der, T[i], h)\n",
    "        w[i+1] = zi[i+1]\n",
    "        w1[i+1] = zmalo[i+1]\n",
    "    print (w1)\n",
    "    plot(T1, w, \"c\")\n",
    "    plot(T1, w1, \"b\")\n",
    "    title(\"Convergencia del método Euler implicito\")\n",
    "    legend([\"z0 aprox de EE\", \"z0 = w0\"])\n",
    "    xlabel(\"t\")\n",
    "    ylabel(\"Aproximacion de raiz de G\")\n",
    "    return zi, T"
   ]
  },
  {
   "cell_type": "code",
   "execution_count": 19,
   "metadata": {
    "scrolled": false
   },
   "outputs": [
    {
     "name": "stdout",
     "output_type": "stream",
     "text": [
      "[0.5 nan nan nan nan nan nan nan nan nan nan nan nan nan nan nan nan nan\n",
      " nan nan nan nan nan nan nan nan nan nan nan nan nan nan nan nan nan nan\n",
      " nan nan nan nan nan nan]\n"
     ]
    },
    {
     "name": "stderr",
     "output_type": "stream",
     "text": [
      "<ipython-input-17-7750cecc71d1>:4: RuntimeWarning: divide by zero encountered in double_scalars\n",
      "  b=a-f1(a)/der(a, h)\n",
      "<ipython-input-18-caf5ae7117b9>:2: RuntimeWarning: invalid value encountered in double_scalars\n",
      "  G = lambda z : (3*h*(z**2) + (1-5*h)*z - w[i])\n"
     ]
    },
    {
     "data": {
      "text/plain": [
       "(array([1.375     , 1.26376262, 1.54523127, 1.63143899, 1.65655785,\n",
       "        1.66377485, 1.66584014, 1.66643064, 1.66659924, 1.6666474 ,\n",
       "        1.66666116, 1.66666509, 1.66666622, 1.66666654, 1.66666663,\n",
       "        1.66666666, 1.66666666, 1.66666667, 1.66666667, 1.66666667,\n",
       "        1.66666667, 1.66666667, 1.66666667, 1.66666667, 1.66666667,\n",
       "        1.66666667, 1.66666667, 1.66666667, 1.66666667, 1.66666667,\n",
       "        1.66666667, 1.66666667, 1.66666667, 1.66666667, 1.66666667,\n",
       "        1.66666667, 1.66666667, 1.66666667, 1.66666667, 1.66666667,\n",
       "        1.66666667, 1.66666667]),\n",
       " array([ 0. ,  0.5,  1. ,  1.5,  2. ,  2.5,  3. ,  3.5,  4. ,  4.5,  5. ,\n",
       "         5.5,  6. ,  6.5,  7. ,  7.5,  8. ,  8.5,  9. ,  9.5, 10. , 10.5,\n",
       "        11. , 11.5, 12. , 12.5, 13. , 13.5, 14. , 14.5, 15. , 15.5, 16. ,\n",
       "        16.5, 17. , 17.5, 18. , 18.5, 19. , 19.5, 20. ]))"
      ]
     },
     "execution_count": 19,
     "metadata": {},
     "output_type": "execute_result"
    },
    {
     "data": {
      "image/png": "[encoded data removed]",
      "text/plain": [
       "<Figure size 432x288 with 1 Axes>"
      ]
     },
     "metadata": {
      "needs_background": "light"
     },
     "output_type": "display_data"
    }
   ],
   "source": [
    "EINewtonGraf(1/2, f, [0,20], 1/2, dg)"
   ]
  },
  {
   "cell_type": "markdown",
   "metadata": {},
   "source": [
    "No jala con newton si tomas la aproximación inicial como w0 en vez de la dada por EE porque la derivada de G se hace cero en z = w0 = 1/2. Por lo tanto no puedes empezar con eso, el método converge bien con z0 = aprox de EE"
   ]
  },
  {
   "cell_type": "code",
   "execution_count": 20,
   "metadata": {
    "scrolled": true
   },
   "outputs": [
    {
     "name": "stdout",
     "output_type": "stream",
     "text": [
      "[0.5        1.         1.33333333 1.51037629 1.59551685 1.63470408\n",
      " 1.65239317 1.66030942 1.66383856 1.6654092  1.66610785 1.66641832\n",
      " 1.66655629 1.66661761 1.66664486 1.66665698 1.66666236 1.66666475\n",
      " 1.66666582 1.66666629 1.6666665  1.66666659 1.66666663 1.66666665\n",
      " 1.66666666 1.66666666 1.66666667 1.66666667 1.66666667 1.66666667\n",
      " 1.66666667 1.66666667 1.66666667 1.66666667 1.66666667 1.66666667\n",
      " 1.66666667 1.66666667 1.66666667 1.66666667 1.66666667 1.66666667\n",
      " 1.66666667 1.66666667 1.66666667 1.66666667 1.66666667 1.66666667\n",
      " 1.66666667 1.66666667 1.66666667 1.66666667 1.66666667 1.66666667\n",
      " 1.66666667 1.66666667 1.66666667 1.66666667 1.66666667 1.66666667\n",
      " 1.66666667 1.66666667 1.66666667 1.66666667 1.66666667 1.66666667\n",
      " 1.66666667 1.66666667 1.66666667 1.66666667 1.66666667 1.66666667\n",
      " 1.66666667 1.66666667 1.66666667 1.66666667 1.66666667 1.66666667\n",
      " 1.66666667 1.66666667 1.66666667 1.66666667]\n"
     ]
    },
    {
     "data": {
      "text/plain": [
       "(array([0.9375    , 1.        , 1.33333333, 1.51037629, 1.59551685,\n",
       "        1.63470408, 1.65239317, 1.66030942, 1.66383856, 1.6654092 ,\n",
       "        1.66610785, 1.66641832, 1.66655629, 1.66661761, 1.66664486,\n",
       "        1.66665698, 1.66666236, 1.66666475, 1.66666582, 1.66666629,\n",
       "        1.6666665 , 1.66666659, 1.66666663, 1.66666665, 1.66666666,\n",
       "        1.66666666, 1.66666667, 1.66666667, 1.66666667, 1.66666667,\n",
       "        1.66666667, 1.66666667, 1.66666667, 1.66666667, 1.66666667,\n",
       "        1.66666667, 1.66666667, 1.66666667, 1.66666667, 1.66666667,\n",
       "        1.66666667, 1.66666667, 1.66666667, 1.66666667, 1.66666667,\n",
       "        1.66666667, 1.66666667, 1.66666667, 1.66666667, 1.66666667,\n",
       "        1.66666667, 1.66666667, 1.66666667, 1.66666667, 1.66666667,\n",
       "        1.66666667, 1.66666667, 1.66666667, 1.66666667, 1.66666667,\n",
       "        1.66666667, 1.66666667, 1.66666667, 1.66666667, 1.66666667,\n",
       "        1.66666667, 1.66666667, 1.66666667, 1.66666667, 1.66666667,\n",
       "        1.66666667, 1.66666667, 1.66666667, 1.66666667, 1.66666667,\n",
       "        1.66666667, 1.66666667, 1.66666667, 1.66666667, 1.66666667,\n",
       "        1.66666667, 1.66666667]),\n",
       " array([ 0.  ,  0.25,  0.5 ,  0.75,  1.  ,  1.25,  1.5 ,  1.75,  2.  ,\n",
       "         2.25,  2.5 ,  2.75,  3.  ,  3.25,  3.5 ,  3.75,  4.  ,  4.25,\n",
       "         4.5 ,  4.75,  5.  ,  5.25,  5.5 ,  5.75,  6.  ,  6.25,  6.5 ,\n",
       "         6.75,  7.  ,  7.25,  7.5 ,  7.75,  8.  ,  8.25,  8.5 ,  8.75,\n",
       "         9.  ,  9.25,  9.5 ,  9.75, 10.  , 10.25, 10.5 , 10.75, 11.  ,\n",
       "        11.25, 11.5 , 11.75, 12.  , 12.25, 12.5 , 12.75, 13.  , 13.25,\n",
       "        13.5 , 13.75, 14.  , 14.25, 14.5 , 14.75, 15.  , 15.25, 15.5 ,\n",
       "        15.75, 16.  , 16.25, 16.5 , 16.75, 17.  , 17.25, 17.5 , 17.75,\n",
       "        18.  , 18.25, 18.5 , 18.75, 19.  , 19.25, 19.5 , 19.75, 20.  ]))"
      ]
     },
     "execution_count": 20,
     "metadata": {},
     "output_type": "execute_result"
    },
    {
     "data": {
      "image/png": "[encoded data removed]",
      "text/plain": [
       "<Figure size 432x288 with 1 Axes>"
      ]
     },
     "metadata": {
      "needs_background": "light"
     },
     "output_type": "display_data"
    }
   ],
   "source": [
    "EINewtonGraf(1/2, f, [0,20], 1/4, dg)"
   ]
  },
  {
   "cell_type": "code",
   "execution_count": 21,
   "metadata": {},
   "outputs": [
    {
     "name": "stdout",
     "output_type": "stream",
     "text": [
      "[ 0.5        -0.11506929 -0.29626915 -0.32713689 -0.33230006 -0.33316148\n",
      " -0.3333047  -0.33332856 -0.33333254 -0.3333332  -0.33333331 -0.33333333\n",
      " -0.33333333 -0.33333333 -0.33333333 -0.33333333 -0.33333333 -0.33333333\n",
      " -0.33333333 -0.33333333 -0.33333333 -0.33333333]\n"
     ]
    },
    {
     "data": {
      "text/plain": [
       "(array([2.25      , 1.44840267, 1.62960248, 1.66047023, 1.66563339,\n",
       "        1.66649481, 1.66663803, 1.66666189, 1.66666587, 1.66666653,\n",
       "        1.66666664, 1.66666666, 1.66666667, 1.66666667, 1.66666667,\n",
       "        1.66666667, 1.66666667, 1.66666667, 1.66666667, 1.66666667,\n",
       "        1.66666667, 1.66666667]),\n",
       " array([ 0.,  1.,  2.,  3.,  4.,  5.,  6.,  7.,  8.,  9., 10., 11., 12.,\n",
       "        13., 14., 15., 16., 17., 18., 19., 20.]))"
      ]
     },
     "execution_count": 21,
     "metadata": {},
     "output_type": "execute_result"
    },
    {
     "data": {
      "image/png": "[encoded data removed]",
      "text/plain": [
       "<Figure size 432x288 with 1 Axes>"
      ]
     },
     "metadata": {
      "needs_background": "light"
     },
     "output_type": "display_data"
    }
   ],
   "source": [
    "EINewtonGraf(1/2, f, [0,20], 1, dg)"
   ]
  }
 ],
 "metadata": {
  "kernelspec": {
   "display_name": "Python 3",
   "language": "python",
   "name": "python3"
  },
  "language_info": {
   "codemirror_mode": {
    "name": "ipython",
    "version": 3
   },
   "file_extension": ".py",
   "mimetype": "text/x-python",
   "name": "python",
   "nbconvert_exporter": "python",
   "pygments_lexer": "ipython3",
   "version": "3.8.5"
  }
 },
 "nbformat": 4,
 "nbformat_minor": 4
}
