{
 "cells": [
  {
   "cell_type": "code",
   "execution_count": 1,
   "metadata": {},
   "outputs": [],
   "source": [
    "import numpy as np\n",
    "import numpy.linalg as LA\n",
    "import pandas as pd"
   ]
  },
  {
   "cell_type": "code",
   "execution_count": 2,
   "metadata": {},
   "outputs": [
    {
     "name": "stdout",
     "output_type": "stream",
     "text": [
      "Using matplotlib backend: MacOSX\n",
      "Populating the interactive namespace from numpy and matplotlib\n"
     ]
    }
   ],
   "source": [
    "%pylab\n",
    "%matplotlib inline"
   ]
  },
  {
   "cell_type": "code",
   "execution_count": 3,
   "metadata": {},
   "outputs": [],
   "source": [
    "parametros = np.array([0, -2.00158510637908252240537862224, 0.994, 0])\n",
    "xend = 17.0652165601579625588917206249\n",
    "T = [0, xend]"
   ]
  },
  {
   "cell_type": "code",
   "execution_count": 4,
   "metadata": {},
   "outputs": [],
   "source": [
    "def f (T, parametros):\n",
    "    m = 0.012277471\n",
    "    u1 = parametros [0]\n",
    "    u2 = parametros [1]\n",
    "    y1 = parametros [2]\n",
    "    y2 = parametros [3]\n",
    "    f1 = y1 + 2*u2 - (1-m)*((y1+m)/(((y1+m)**2)+(y2**2))**(3/2)) - m*((y1-(1-m))/((((y1-(1-m))**2)+y2**2)**(3/2)))\n",
    "    f2 = y2-2*u1-(1-m)*(y2/((((y1+m)**2)+y2**2)**(3/2))) - m*(y2/((((y1-(1-m))**2)+y2**2)**(3/2)))\n",
    "    f3 = u1\n",
    "    f4 = u2\n",
    "    return np.array([f1, f2, f3, f4])"
   ]
  },
  {
   "cell_type": "markdown",
   "metadata": {},
   "source": [
    "# Intento1"
   ]
  },
  {
   "cell_type": "code",
   "execution_count": 5,
   "metadata": {},
   "outputs": [],
   "source": [
    "def TEVecUnPaso (T, f, parametros, h):\n",
    "    return np.array(f(T, parametros) + 0.5*h*(f(T, parametros) + f(T+h, f(T, parametros) + h*f(T, parametros))))"
   ]
  },
  {
   "cell_type": "code",
   "execution_count": 6,
   "metadata": {},
   "outputs": [],
   "source": [
    "def RK4VecUnPaso (T, f, parametros, h:float):\n",
    "    #parametros = [u1, u2, y1, y2]\n",
    "    s1 = np.array([])\n",
    "    s2 = np.array([])\n",
    "    s3 = np.array([])\n",
    "    s4 = np.array([])\n",
    "    s1 = f(T, parametros)\n",
    "    print(s1)\n",
    "    s2 = f(T + h/2, parametros + (h/2)*s1)\n",
    "    print(s2)\n",
    "    s3 = f(T + h/2, parametros + (h/2)*s2)\n",
    "    print(s3)\n",
    "    s4 = f(T + h, parametros + h*s3)\n",
    "    print(s4)\n",
    "    print(f(T, parametros) + (h/6)*(s1 + 2*s2 + 2*s3 + s4))\n",
    "    return f(T, parametros) + (h/6)*(s1 + 2*s2 + 2*s3 + s4)"
   ]
  },
  {
   "cell_type": "code",
   "execution_count": 26,
   "metadata": {},
   "outputs": [],
   "source": [
    "def pasoFlexLLama (f, wp, tp, tmax, tol):\n",
    "    trel = tol * max(LA.norm([wp], np.inf), 0.25)\n",
    "    i = 0\n",
    "    H = tmax - tp\n",
    "    hs = []\n",
    "    hs.append(H)\n",
    "    while True:\n",
    "        EH = abs(RK4VecUnPaso(tp, f, wp, hs[i]) - TEVecUnPaso(tp, f, wp, hs[i]))\n",
    "        if any(EH) < trel:\n",
    "            break\n",
    "        hs.append(hs[i]/2)\n",
    "        i = i+1\n",
    "    tf = tp + hs[len(hs)-1]\n",
    "    wf = RK4VecUnPaso(tf, f, wp, hs[len(hs)-1])\n",
    "    Hsug = 2*hs[len(hs)-1]\n",
    "    return tf, wf, Hsug"
   ]
  },
  {
   "cell_type": "code",
   "execution_count": 31,
   "metadata": {},
   "outputs": [],
   "source": [
    "def metodoAdap (T, f, parametros, Hmax, tol, imax):\n",
    "    tp = T[0]\n",
    "    Hsug = Hmax\n",
    "    wp = f(T, parametros)\n",
    "    w = [[0 for i in range (0, imax)] for i in range (0,4)]\n",
    "    i = 0\n",
    "    while True:\n",
    "        tmax = min(T[1], tp+Hsug)\n",
    "        tf, wf, Hsug = pasoFlexLLama(f, tp, wp, tmax, tol) #wf y tf igual son arrays\n",
    "        Hsug = min(Hmax, Hsug)\n",
    "        w[0][i]=wf[0]\n",
    "        w[1][i]=wf[1]\n",
    "        w[2][i]=wf[2]\n",
    "        w[3][i]=wf[3]\n",
    "        if tf == T[1]:\n",
    "            break\n",
    "        if i>=imax-1:\n",
    "            break\n",
    "        tp = tf\n",
    "        wp = wf\n",
    "        i = i+1\n",
    "    return w"
   ]
  },
  {
   "cell_type": "markdown",
   "metadata": {},
   "source": [
    "# Intento 2"
   ]
  },
  {
   "cell_type": "code",
   "execution_count": 18,
   "metadata": {},
   "outputs": [],
   "source": [
    "def pasoFlex(f, tp, wp, tmax, tol=1e-6 ):\n",
    "    trel = tol*max( LA.norm(wp, np.inf), 0.25 )\n",
    "    tf = tmax\n",
    "    \n",
    "    while True:\n",
    "        H = tf - tp\n",
    "        s1 = f(tp, wp)\n",
    "        s2 = f(tp+(H/2), wp + (H/2)*s1)\n",
    "        s3 = f(tp+ (H/2), wp + (H/2)*s2)\n",
    "        s4 = f(tp+H, wp+H*s3)\n",
    "        EH = H*abs((H/6)*(s1 + 2*s2 + 2*s3 + s4))\n",
    "        \n",
    "        if any(EH > trel):                                         # was all(...)\n",
    "            tf -= 0.5*H\n",
    "        else:\n",
    "            wnew = f(tp, wp) + (H/6)*(s1 + 2*s2 + 2*s3 + s4)\n",
    "            #unew = wp + H*(s1 + 4*s3 + s2)/6\n",
    "            Hsug = 2*H\n",
    "            break\n",
    "    \n",
    "    return tf, wnew, Hsug"
   ]
  },
  {
   "cell_type": "code",
   "execution_count": 19,
   "metadata": {},
   "outputs": [],
   "source": [
    "def metAdap( f, u0, I, Hmax, tol =1e-6):\n",
    "    t0, T = I\n",
    "    Hsug = Hmax\n",
    "    wp = u0.copy()\n",
    "    tp = t0\n",
    "    \n",
    "    ts = [t0]\n",
    "    ws = [wp]\n",
    "    \n",
    "    while ts[-1] < T:\n",
    "        tmax = min(T, ts[-1]+Hsug)\n",
    "        tf, wf, Hsug = pasoFlex( f, ts[-1], ws[-1], tmax, tol )\n",
    "        Hsug = min(Hmax, Hsug)\n",
    "        \n",
    "        ts.append(tf)\n",
    "        ws.append(wf)\n",
    "    \n",
    "    return ts, np.array(ws)  "
   ]
  },
  {
   "cell_type": "code",
   "execution_count": 20,
   "metadata": {},
   "outputs": [],
   "source": [
    "a=metAdap(f, parametros, T, 1/2, 1e-6)"
   ]
  },
  {
   "cell_type": "code",
   "execution_count": 21,
   "metadata": {},
   "outputs": [],
   "source": [
    "x = [a[1][i][2] for i in range (0, len(a[1]))]\n",
    "y = [a[1][i][3] for i in range (0, len(a[1]))]\n",
    "xx = [a[1][i][0] for i in range (0, len(a[1]))]\n",
    "yy = [a[1][i][1] for i in range (0, len(a[1]))]"
   ]
  },
  {
   "cell_type": "code",
   "execution_count": 25,
   "metadata": {},
   "outputs": [
    {
     "data": {
      "text/plain": [
       "[<matplotlib.lines.Line2D at 0x7fb3346a1190>]"
      ]
     },
     "execution_count": 25,
     "metadata": {},
     "output_type": "execute_result"
    },
    {
     "data": {
      "image/png": "[encoded data removed]",
      "text/plain": [
       "<Figure size 432x288 with 1 Axes>"
      ]
     },
     "metadata": {
      "needs_background": "light"
     },
     "output_type": "display_data"
    }
   ],
   "source": [
    "plot(x,y)"
   ]
  },
  {
   "cell_type": "code",
   "execution_count": null,
   "metadata": {},
   "outputs": [],
   "source": []
  }
 ],
 "metadata": {
  "kernelspec": {
   "display_name": "Python 3",
   "language": "python",
   "name": "python3"
  },
  "language_info": {
   "codemirror_mode": {
    "name": "ipython",
    "version": 3
   },
   "file_extension": ".py",
   "mimetype": "text/x-python",
   "name": "python",
   "nbconvert_exporter": "python",
   "pygments_lexer": "ipython3",
   "version": "3.8.5"
  }
 },
 "nbformat": 4,
 "nbformat_minor": 4
}
